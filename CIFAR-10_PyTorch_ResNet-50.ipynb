{
 "cells": [
  {
   "cell_type": "markdown",
   "metadata": {},
   "source": [
    "## Introduction\n",
    "\n",
    "In this project, I will implement a classifier which can classify **CIFAR-10** [1] dataset. This dataset contains these classes:\n",
    "* airplane (0), automobile (1), bird (2), cat (3), deer (4), dog (5), frog (6), horse (7), ship (8), truck (9)\n",
    "\n",
    "All these classes are ranging from 0 to 9 in the dataset.\n",
    "\n",
    "I will consider **ResNet-50** [2] convolutional neural network architecture. Transfer learning technique is used for training the model. I will freeze initial layers up to the final layer. \n",
    "\n",
    "Training RestNet-50 convolutional neural network with random weights from scratch requires a lot of processing power and big dataset. Instead of training from scratch, we can simply take a pre-trained model and train it from some higher layer. I assume that pre-trained model learned the basic features(like edges, shapes etc.) on lower levels.\n",
    "\n",
    "PyTorch framework is used as a deep learning framework.\n",
    "\n",
    "* `torch` version: 0.4.1\n",
    "* `torchvision` version: 0.2.1"
   ]
  },
  {
   "cell_type": "code",
   "execution_count": 1,
   "metadata": {},
   "outputs": [],
   "source": [
    "from __future__ import print_function, division\n",
    "\n",
    "import torch\n",
    "import torch.nn as nn\n",
    "import torch.optim as optim\n",
    "from torch.optim import lr_scheduler\n",
    "import numpy as np\n",
    "import torchvision\n",
    "from torchvision import datasets, models, transforms\n",
    "import matplotlib.pyplot as plt\n",
    "import time\n",
    "import os\n",
    "import copy\n",
    "from random import randint\n",
    "\n",
    "# Reading CIFAR-10 Dataset\n",
    "import pickle\n",
    "\n",
    "#For dataset normalization\n",
    "import torchvision.transforms as transforms\n",
    "from PIL import Image\n",
    "\n",
    "# For Dataset Splitting\n",
    "from torch.utils.data.sampler import SubsetRandomSampler\n"
   ]
  },
  {
   "cell_type": "markdown",
   "metadata": {},
   "source": [
    "### Reproducibility\n",
    "\n",
    "For reproducibility, I assigned some seed numbers. And CUDNN has some non-deterministic methods, so I assigned deterministic to True."
   ]
  },
  {
   "cell_type": "code",
   "execution_count": 2,
   "metadata": {},
   "outputs": [],
   "source": [
    "torch.manual_seed(456)\n",
    "if torch.cuda.is_available(): \n",
    "    torch.cuda.manual_seed_all(456)\n",
    "    torch.backends.cudnn.deterministic = True"
   ]
  },
  {
   "cell_type": "markdown",
   "metadata": {},
   "source": [
    "### GPU Support\n",
    "Check whether GPU is available. If GPU is not available, run on CPU."
   ]
  },
  {
   "cell_type": "code",
   "execution_count": 3,
   "metadata": {},
   "outputs": [
    {
     "name": "stdout",
     "output_type": "stream",
     "text": [
      "cuda\n"
     ]
    }
   ],
   "source": [
    "device = torch.device(\"cuda\" if torch.cuda.is_available() else \"cpu\")\n",
    "print(device)"
   ]
  },
  {
   "cell_type": "markdown",
   "metadata": {},
   "source": [
    "There are 10 different classes:"
   ]
  },
  {
   "cell_type": "code",
   "execution_count": 4,
   "metadata": {},
   "outputs": [],
   "source": [
    "classes = ('plane', 'car', 'bird', 'cat','deer', 'dog', 'frog', 'horse', 'ship', 'truck')"
   ]
  },
  {
   "cell_type": "markdown",
   "metadata": {},
   "source": [
    "## 1- Reading CIFAR-10 Dataset\n",
    "\n",
    "I will not use PyTorch's existing methods to download and load dataset. I will write my custom dataset loading class named **MyCustomCIFAR10Dataset**. As we can see from below image, dataset is divided into 6 batches. \n",
    "\n",
    "![CIFAR-10 Dataset Batches](img/0_cifar.PNG)\n",
    "\n",
    "Each pickle contains 10K images with 10000x3072 dimentions. Each row of the matrix stores a 32x32 colored image. 1024 for Red, 1024 for Green, 1024 for Blue. For example one batch structure is shown below:\n",
    "\n",
    "![CIFAR-10 Dataset Batches](img/2_cifar.PNG)\n",
    "\n",
    "**MyCustomCIFAR10Dataset** class constructor takes 3 parameters: *data_dir*, *isTrainingDataset* and *transform*. *data_dir* parameter is path of the CIFAR-10 dataset, *isTrainingDataset* parameter indicates that dataset is for training or testing and  *transform* parameter is used for transform operations such as normalization and data augmentation. There are different transformation functions [4].\n",
    "\n",
    "This dataset is prepared with **pickle** library. **unpickle** function loads byte data from file and takes file path as parameter.\n",
    "\n",
    "There are 2 functions which are **loadTrainingDataset()** and **loadTestDataset()**. This functions loads images and labels from batches. **unpickle()** function returns dictionary. In CIFAR-10 dataset there are *data* and *labels* items in dictionary [3]. \n",
    "\n",
    "This class concatenates training and test batches. \n",
    "* Training Data Shape: (50000, 32, 32, 3)\n",
    "* Test Data Shape: (10000, 32, 32, 3)\n",
    "* Training Label Shape: (50000,)\n",
    "* Test Label Shape: (10000,)"
   ]
  },
  {
   "cell_type": "code",
   "execution_count": 5,
   "metadata": {},
   "outputs": [],
   "source": [
    "from torch.utils.data.dataset import Dataset\n",
    "from PIL import Image\n",
    "import pickle\n",
    "\n",
    "class MyCustomCIFAR10Dataset(Dataset):\n",
    "    def __init__(self, data_dir, isTrainingDataset, transform=None):\n",
    "        self.transform = transform\n",
    "        if isTrainingDataset == True:\n",
    "            self.data, self.labels = self.loadTrainingDataset(data_dir)\n",
    "        else:\n",
    "            self.data, self.labels = self.loadTestDataset(data_dir)\n",
    "        \n",
    "    def __getitem__(self, index):\n",
    "        dataItem, labelItem = self.data[index], self.labels[index]\n",
    "        dataItem = Image.fromarray(dataItem)  # Convert to PIL format for calculations\n",
    "        if self.transform is not None:\n",
    "            dataItem = self.transform(dataItem)\n",
    "        return dataItem, labelItem\n",
    "\n",
    "    def __len__(self):\n",
    "        return len(self.data)  # Size of the dataset\n",
    "    \n",
    "    def loadTrainingDataset(self, data_dir):\n",
    "        train_data = None\n",
    "        train_labels = []\n",
    "\n",
    "        for i in range(1, 6): # There are 5 training batches\n",
    "            train_data_dic = self.unpickle(data_dir + \"/data_batch_{}\".format(i))\n",
    "            if i == 1:\n",
    "                train_data = train_data_dic['data']\n",
    "            else:\n",
    "                train_data = np.vstack((train_data, train_data_dic['data']))\n",
    "            train_labels += train_data_dic['labels']\n",
    "            \n",
    "        train_data = train_data.reshape((len(train_data), 3, 32, 32))\n",
    "        train_data = train_data.transpose((0, 2, 3, 1))\n",
    "        train_labels = np.array(train_labels)\n",
    "        return train_data, train_labels\n",
    "    \n",
    "    def loadTestDataset(self, data_dir):\n",
    "        test_data_dic = self.unpickle(data_dir + \"/test_batch\")\n",
    "        test_data = test_data_dic['data']\n",
    "        test_labels = test_data_dic['labels']\n",
    "        test_data = test_data.reshape((len(test_data), 3, 32, 32))\n",
    "        test_data = test_data.transpose((0, 2, 3, 1))\n",
    "        test_labels = np.array(test_labels)\n",
    "        return test_data, test_labels\n",
    "    \n",
    "    def unpickle(self, file):\n",
    "        with open(file, 'rb') as f:\n",
    "            data = pickle.load(f, encoding='latin-1')\n",
    "            return data"
   ]
  },
  {
   "cell_type": "markdown",
   "metadata": {},
   "source": [
    "## 2- Loading,  Normalizing and Splitting Dataset\n",
    "\n"
   ]
  },
  {
   "cell_type": "markdown",
   "metadata": {},
   "source": [
    "Transform function can be used for normalization. We can compose different transform functions. I composed **Resize**, **ToTensor** and **Normalize** transformations. **ToTensor** is used for tensor conversion. **Normalize** is used for normalizing a tensor image with mean and standard deviation. Given mean: (M1,...,Mn) and std: (S1,..,Sn) for n channels [4]. \n",
    "\n",
    "The images have to be loaded in to a range of [0, 1] and then normalized using mean = [0.485, 0.456, 0.406] and std = [0.229, 0.224, 0.225].\n",
    "\n",
    "This normalization values are calculated with ImageNet dataset. I am using pretrained ResNet-50 architecture on ImageNet, so I used these normalization values.\n",
    "\n",
    "Images are resized to `224x224` because ResNet-50 model was pretrained with ImageNet with `224x224` input sizes.\n",
    "\n",
    "I am not using any data augmentation methods."
   ]
  },
  {
   "cell_type": "code",
   "execution_count": 6,
   "metadata": {},
   "outputs": [],
   "source": [
    "transform = transforms.Compose([\n",
    "        transforms.Resize(224),\n",
    "        transforms.ToTensor(),\n",
    "        transforms.Normalize((0.4914, 0.4822, 0.4465), (0.2023, 0.1994, 0.2010))]) "
   ]
  },
  {
   "cell_type": "markdown",
   "metadata": {},
   "source": [
    "We can now initialize **MyCustomCIFAR10Dataset** class with *data_dir* and *transform* functions."
   ]
  },
  {
   "cell_type": "code",
   "execution_count": 7,
   "metadata": {},
   "outputs": [],
   "source": [
    "trainingDataset = MyCustomCIFAR10Dataset(data_dir='dataset/cifar-10-batches-py', isTrainingDataset=True, transform=transform)\n",
    "testDataset = MyCustomCIFAR10Dataset(data_dir='dataset/cifar-10-batches-py', isTrainingDataset=False, transform=transform)"
   ]
  },
  {
   "cell_type": "markdown",
   "metadata": {},
   "source": [
    "As we can see from the training dataset's first image output, all numbers are normalized (between -1 and 1). First axis of the dataset tensor is the image, second axis is the label of the image. Label of 9 indicates **truck**."
   ]
  },
  {
   "cell_type": "code",
   "execution_count": 8,
   "metadata": {},
   "outputs": [
    {
     "name": "stdout",
     "output_type": "stream",
     "text": [
      "tensor([[[ 0.5562,  0.5562,  0.5562,  ..., -0.8977, -0.8977, -0.8977],\n",
      "         [ 0.5562,  0.5562,  0.5562,  ..., -0.8977, -0.8977, -0.8977],\n",
      "         [ 0.5562,  0.5562,  0.5562,  ..., -0.8977, -0.8977, -0.8977],\n",
      "         ...,\n",
      "         [ 0.7307,  0.7307,  0.7307,  ...,  0.3430,  0.3430,  0.3430],\n",
      "         [ 0.7307,  0.7307,  0.7307,  ...,  0.3430,  0.3430,  0.3430],\n",
      "         [ 0.7307,  0.7307,  0.7307,  ...,  0.3430,  0.3430,  0.3430]],\n",
      "\n",
      "        [[ 1.0628,  1.0628,  1.0628,  ..., -0.8252, -0.8252, -0.8252],\n",
      "         [ 1.0628,  1.0628,  1.0628,  ..., -0.8252, -0.8252, -0.8252],\n",
      "         [ 1.0628,  1.0628,  1.0628,  ..., -0.8252, -0.8252, -0.8252],\n",
      "         ...,\n",
      "         [ 0.4924,  0.4924,  0.4924,  ...,  0.1974,  0.1974,  0.1974],\n",
      "         [ 0.4924,  0.4924,  0.4924,  ...,  0.1974,  0.1974,  0.1974],\n",
      "         [ 0.4924,  0.4924,  0.4924,  ...,  0.1974,  0.1974,  0.1974]],\n",
      "\n",
      "        [[ 1.4270,  1.4270,  1.4270,  ..., -0.8557, -0.8557, -0.8557],\n",
      "         [ 1.4270,  1.4270,  1.4270,  ..., -0.8557, -0.8557, -0.8557],\n",
      "         [ 1.4270,  1.4270,  1.4270,  ..., -0.8557, -0.8557, -0.8557],\n",
      "         ...,\n",
      "         [ 0.1198,  0.1198,  0.1198,  ...,  0.5881,  0.5881,  0.5881],\n",
      "         [ 0.1198,  0.1198,  0.1198,  ...,  0.5881,  0.5881,  0.5881],\n",
      "         [ 0.1198,  0.1198,  0.1198,  ...,  0.5881,  0.5881,  0.5881]]])\n",
      "Label of 1st image: 9\n"
     ]
    }
   ],
   "source": [
    "print(trainingDataset[1][0])\n",
    "print('Label of 1st image:', trainingDataset[1][1])"
   ]
  },
  {
   "cell_type": "markdown",
   "metadata": {},
   "source": [
    "Let's show first image of the training dataset:"
   ]
  },
  {
   "cell_type": "code",
   "execution_count": 9,
   "metadata": {},
   "outputs": [
    {
     "data": {
      "image/png": "[encoded data removed]",
      "text/plain": [
       "<Figure size 432x288 with 1 Axes>"
      ]
     },
     "metadata": {
      "needs_background": "light"
     },
     "output_type": "display_data"
    }
   ],
   "source": [
    "def imshow(img):\n",
    "    img = np.transpose(img, (1, 2, 0))\n",
    "    img = img.numpy()\n",
    "    mean = np.array([0.4914, 0.4822, 0.4465])\n",
    "    std = np.array([0.2023, 0.1994, 0.2010])\n",
    "    img = std * img + mean\n",
    "    plt.imshow(img)\n",
    "    plt.show()\n",
    "    \n",
    "imshow(trainingDataset[1][0])"
   ]
  },
  {
   "cell_type": "markdown",
   "metadata": {},
   "source": [
    "### Split Training Dataset\n",
    "\n",
    "Training and testing datasets are ready, but there are no validation dataset. There are 50000 images in training dataset. I will split training dataset into validation and training with 1/5 ratio.\n",
    "\n",
    "At the end these are the length of the datasets:\n",
    "\n",
    "* `training`: 40000\n",
    "* `validation`: 10000\n",
    "* `testing`: 10000\n",
    "\n",
    "**SubsetRandomSampler** method samples elements randomly from a given list of indices, without replacement.\n",
    "\n"
   ]
  },
  {
   "cell_type": "code",
   "execution_count": 10,
   "metadata": {},
   "outputs": [],
   "source": [
    "validation_split = 0.2\n",
    "dataset_size = len(trainingDataset)\n",
    "indices = list(range(dataset_size))\n",
    "split = int(np.floor(validation_split * dataset_size))\n",
    "train_indices, val_indices = indices[split:], indices[:split]\n",
    "\n",
    "train_sampler = SubsetRandomSampler(train_indices)\n",
    "validation_sampler = SubsetRandomSampler(val_indices)"
   ]
  },
  {
   "cell_type": "markdown",
   "metadata": {},
   "source": [
    "### Data Loaders\n",
    "\n",
    "Data loaders are useful for memory efficiency. To avoid loading all the images into memory, we can use DataLoaders to load batch of images. DataLoaders apply transformations and prepare batch of the data. Shuffle parameter is to have the data reshuffled at every epoch [6]."
   ]
  },
  {
   "cell_type": "code",
   "execution_count": 11,
   "metadata": {},
   "outputs": [],
   "source": [
    "trainLoader = torch.utils.data.DataLoader(trainingDataset, batch_size=128, sampler=train_sampler)\n",
    "validationLoader = torch.utils.data.DataLoader(trainingDataset, batch_size=128, sampler=validation_sampler)\n",
    "testLoader = torch.utils.data.DataLoader(testDataset, batch_size=32, shuffle=False, num_workers=0)"
   ]
  },
  {
   "cell_type": "markdown",
   "metadata": {},
   "source": [
    "Creating **dataloaders** and **dataset_sizes** dictionary for clean code when training the model."
   ]
  },
  {
   "cell_type": "code",
   "execution_count": 12,
   "metadata": {},
   "outputs": [],
   "source": [
    "dataloaders = {\n",
    "    \"train\": trainLoader,\n",
    "    \"val\": validationLoader,\n",
    "    \"test\": testLoader\n",
    "}\n",
    "dataset_sizes = {\n",
    "    \"train\": len(train_indices),\n",
    "    \"val\": len(val_indices),\n",
    "    \"test\": len(testDataset)\n",
    "}\n"
   ]
  },
  {
   "cell_type": "markdown",
   "metadata": {},
   "source": [
    "Shape of a train dataloader images is (batch_size, channel_size, height, width)"
   ]
  },
  {
   "cell_type": "code",
   "execution_count": 13,
   "metadata": {},
   "outputs": [
    {
     "data": {
      "text/plain": [
       "(torch.Size([128, 3, 224, 224]), torch.Size([128]))"
      ]
     },
     "execution_count": 13,
     "metadata": {},
     "output_type": "execute_result"
    }
   ],
   "source": [
    "trainiter = iter(dataloaders['train'])\n",
    "images, labels = next(trainiter)\n",
    "\n",
    "images.shape, labels.shape"
   ]
  },
  {
   "cell_type": "markdown",
   "metadata": {},
   "source": [
    "## 3- ResNet-50 CNN Architecture\n",
    "I wrote my ResNet-50 architecture. This code is mostly adapted from [5]. \n",
    "\n",
    "Usage: `model = resnet50(pretrained=True)`\n",
    "\n",
    "If *pretrained* parameter is True, it downloads the pretrained network weights. ResNet-50 network was pretrained on ImageNet. "
   ]
  },
  {
   "cell_type": "code",
   "execution_count": 14,
   "metadata": {},
   "outputs": [],
   "source": [
    "import torch.nn as nn\n",
    "import torch.utils.model_zoo as model_zoo\n",
    "\n",
    "\n",
    "def conv3x3(in_planes, out_planes, stride=1):\n",
    "    \"\"\"3x3 convolution with padding\"\"\"\n",
    "    return nn.Conv2d(in_planes, out_planes, kernel_size=3, stride=stride,\n",
    "                     padding=1, bias=False)\n",
    "\n",
    "\n",
    "def conv1x1(in_planes, out_planes, stride=1):\n",
    "    \"\"\"1x1 convolution\"\"\"\n",
    "    return nn.Conv2d(in_planes, out_planes, kernel_size=1, stride=stride, bias=False)\n",
    "\n",
    "\n",
    "class Bottleneck(nn.Module):\n",
    "    expansion = 4\n",
    "\n",
    "    def __init__(self, inplanes, planes, stride=1, downsample=None):\n",
    "        super(Bottleneck, self).__init__()\n",
    "        self.conv1 = conv1x1(inplanes, planes)\n",
    "        self.bn1 = nn.BatchNorm2d(planes)\n",
    "        self.conv2 = conv3x3(planes, planes, stride)\n",
    "        self.bn2 = nn.BatchNorm2d(planes)\n",
    "        self.conv3 = conv1x1(planes, planes * self.expansion)\n",
    "        self.bn3 = nn.BatchNorm2d(planes * self.expansion)\n",
    "        self.relu = nn.ReLU(inplace=True)\n",
    "        self.downsample = downsample\n",
    "        self.stride = stride\n",
    "\n",
    "    def forward(self, x):\n",
    "        identity = x\n",
    "\n",
    "        out = self.conv1(x)\n",
    "        out = self.bn1(out)\n",
    "        out = self.relu(out)\n",
    "\n",
    "        out = self.conv2(out)\n",
    "        out = self.bn2(out)\n",
    "        out = self.relu(out)\n",
    "\n",
    "        out = self.conv3(out)\n",
    "        out = self.bn3(out)\n",
    "\n",
    "        if self.downsample is not None:\n",
    "            identity = self.downsample(x)\n",
    "\n",
    "        out += identity\n",
    "        out = self.relu(out)\n",
    "\n",
    "        return out\n",
    "\n",
    "\n",
    "class ResNet(nn.Module):\n",
    "\n",
    "    def __init__(self, block, layers, num_classes=1000, zero_init_residual=False):\n",
    "        super(ResNet, self).__init__()\n",
    "        self.inplanes = 64\n",
    "        self.conv1 = nn.Conv2d(3, 64, kernel_size=7, stride=2, padding=3,\n",
    "                               bias=False)\n",
    "        self.bn1 = nn.BatchNorm2d(64)\n",
    "        self.relu = nn.ReLU(inplace=True)\n",
    "        self.maxpool = nn.MaxPool2d(kernel_size=3, stride=2, padding=1)\n",
    "        self.layer1 = self._make_layer(block, 64, layers[0])\n",
    "        self.layer2 = self._make_layer(block, 128, layers[1], stride=2)\n",
    "        self.layer3 = self._make_layer(block, 256, layers[2], stride=2)\n",
    "        self.layer4 = self._make_layer(block, 512, layers[3], stride=2)\n",
    "        self.avgpool = nn.AdaptiveAvgPool2d((1, 1))\n",
    "        self.fc = nn.Linear(512 * block.expansion, num_classes)\n",
    "\n",
    "        for m in self.modules():\n",
    "            if isinstance(m, nn.Conv2d):\n",
    "                nn.init.kaiming_normal_(m.weight, mode='fan_out', nonlinearity='relu')\n",
    "            elif isinstance(m, nn.BatchNorm2d):\n",
    "                nn.init.constant_(m.weight, 1)\n",
    "                nn.init.constant_(m.bias, 0)\n",
    "\n",
    "        # Zero-initialize the last BN in each residual branch,\n",
    "        # so that the residual branch starts with zeros, and each residual block behaves like an identity.\n",
    "        # This improves the model by 0.2~0.3% according to https://arxiv.org/abs/1706.02677\n",
    "        if zero_init_residual:\n",
    "            for m in self.modules():\n",
    "                if isinstance(m, Bottleneck):\n",
    "                    nn.init.constant_(m.bn3.weight, 0)\n",
    "\n",
    "    def _make_layer(self, block, planes, blocks, stride=1):\n",
    "        downsample = None\n",
    "        if stride != 1 or self.inplanes != planes * block.expansion:\n",
    "            downsample = nn.Sequential(\n",
    "                conv1x1(self.inplanes, planes * block.expansion, stride),\n",
    "                nn.BatchNorm2d(planes * block.expansion),\n",
    "            )\n",
    "\n",
    "        layers = []\n",
    "        layers.append(block(self.inplanes, planes, stride, downsample))\n",
    "        self.inplanes = planes * block.expansion\n",
    "        for _ in range(1, blocks):\n",
    "            layers.append(block(self.inplanes, planes))\n",
    "\n",
    "        return nn.Sequential(*layers)\n",
    "\n",
    "    def forward(self, x):\n",
    "        x = self.conv1(x)\n",
    "        x = self.bn1(x)\n",
    "        x = self.relu(x)\n",
    "        x = self.maxpool(x)\n",
    "\n",
    "        x = self.layer1(x)\n",
    "        x = self.layer2(x)\n",
    "        x = self.layer3(x)\n",
    "        x = self.layer4(x)\n",
    "\n",
    "        x = self.avgpool(x)\n",
    "        x = x.view(x.size(0), -1)\n",
    "        x = self.fc(x)\n",
    "\n",
    "        return x\n",
    "\n",
    "\n",
    "\n",
    "def resnet50(pretrained=False, **kwargs):\n",
    "    \"\"\"Constructs a ResNet-50 model.\n",
    "    Args:\n",
    "        pretrained (bool): If True, returns a model pre-trained on ImageNet\n",
    "    \"\"\"\n",
    "    model = ResNet(Bottleneck, [3, 4, 6, 3], **kwargs)\n",
    "    if pretrained:\n",
    "        model.load_state_dict(model_zoo.load_url('https://download.pytorch.org/models/resnet50-19c8e357.pth'))\n",
    "    return model\n",
    "\n"
   ]
  },
  {
   "cell_type": "markdown",
   "metadata": {},
   "source": [
    "## 4- Training Model"
   ]
  },
  {
   "cell_type": "markdown",
   "metadata": {},
   "source": [
    "This is a general method for training a model [7]. Input parameters:\n",
    "\n",
    "* `model`: Network model for training. In this example it is ResNet-50\n",
    "* `criterion`: Loss function. For example nn.CrossEntropyLoss() - nn.HingeEmbeddingLoss\n",
    "* `optimizer`: Optimizer for training. For example optim.Adam - optim.SGD\n",
    "* `num_epochs`: Epoch size."
   ]
  },
  {
   "cell_type": "code",
   "execution_count": 15,
   "metadata": {},
   "outputs": [],
   "source": [
    "def train_model(model, criterion, optimizer, scheduler, num_epochs=25):\n",
    "    since = time.time()\n",
    "\n",
    "    best_model_wts = copy.deepcopy(model.state_dict())\n",
    "    best_acc = 0.0\n",
    "    history_loss = {\n",
    "        \"train\": [],\n",
    "        \"val\": []\n",
    "    }\n",
    "    history_accuracy = {\n",
    "        \"train\": [],\n",
    "        \"val\": []\n",
    "    }\n",
    "\n",
    "    for epoch in range(num_epochs):\n",
    "        print('Epoch {}/{}'.format(epoch, num_epochs - 1))\n",
    "        print('-' * 10)\n",
    "\n",
    "        # Each epoch has a training and validation phase\n",
    "        for phase in ['train', 'val']:\n",
    "            if phase == 'train':\n",
    "                scheduler.step()\n",
    "                model.train()  # Set model to training mode\n",
    "            else:\n",
    "                model.eval()   # Set model to evaluate mode\n",
    "\n",
    "            running_loss = 0.0\n",
    "            running_corrects = 0\n",
    "\n",
    "            # Iterate over data.\n",
    "            for inputs, labels in dataloaders[phase]:\n",
    "                inputs = inputs.to(device)\n",
    "                labels = labels.long()\n",
    "                labels = labels.to(device)\n",
    "\n",
    "                # zero the parameter gradients\n",
    "                optimizer.zero_grad()\n",
    "\n",
    "                # forward\n",
    "                # track history if only in train\n",
    "                with torch.set_grad_enabled(phase == 'train'):\n",
    "                    outputs = model(inputs)\n",
    "                    _, preds = torch.max(outputs, 1)\n",
    "                    loss = criterion(outputs, labels)\n",
    "\n",
    "                    # backward + optimize only if in training phase\n",
    "                    if phase == 'train':\n",
    "                        loss.backward()\n",
    "                        optimizer.step()\n",
    "\n",
    "                # statistics\n",
    "                running_loss += loss.item() * inputs.size(0)\n",
    "                running_corrects += torch.sum(preds == labels.data)\n",
    "\n",
    "            epoch_loss = running_loss / dataset_sizes[phase]\n",
    "            epoch_acc = running_corrects.double() / dataset_sizes[phase]\n",
    "\n",
    "            print('{} Loss: {:.4f} Acc: {:.4f}'.format(\n",
    "                phase, epoch_loss, epoch_acc))\n",
    "            \n",
    "            #History Statistics\n",
    "            history_loss[phase].append(epoch_loss)\n",
    "            history_accuracy[phase].append(epoch_acc.item())\n",
    "            \n",
    "            # deep copy the model\n",
    "            if phase == 'val' and epoch_acc > best_acc:\n",
    "                best_acc = epoch_acc\n",
    "                best_model_wts = copy.deepcopy(model.state_dict())\n",
    "\n",
    "        print()\n",
    "\n",
    "    time_elapsed = time.time() - since\n",
    "    print('Training complete in {:.0f}m {:.0f}s'.format(\n",
    "        time_elapsed // 60, time_elapsed % 60))\n",
    "    print('Best val Acc: {:4f}'.format(best_acc))\n",
    "\n",
    "    # load best model weights\n",
    "    model.load_state_dict(best_model_wts)\n",
    "    return model, history_loss, history_accuracy"
   ]
  },
  {
   "cell_type": "markdown",
   "metadata": {},
   "source": [
    "## Save Model"
   ]
  },
  {
   "cell_type": "code",
   "execution_count": 16,
   "metadata": {},
   "outputs": [],
   "source": [
    "def saveModel(model, name):\n",
    "    if not os.path.exists('MODEL'):\n",
    "        os.makedirs('MODEL')\n",
    "    torch.save({'state_dict': model.state_dict()}, 'MODEL/'+name)"
   ]
  },
  {
   "cell_type": "markdown",
   "metadata": {},
   "source": [
    "Initialize model with pretrained = True. ResNet-50 model weights are downloaded and used as initial weights. ResNet-50 is pretrained with ImageNet dataset."
   ]
  },
  {
   "cell_type": "code",
   "execution_count": 17,
   "metadata": {},
   "outputs": [],
   "source": [
    "model = resnet50(pretrained=True)"
   ]
  },
  {
   "cell_type": "markdown",
   "metadata": {},
   "source": [
    "ResNet-50 Model architecture is shown below:"
   ]
  },
  {
   "cell_type": "code",
   "execution_count": 18,
   "metadata": {
    "scrolled": true
   },
   "outputs": [
    {
     "data": {
      "text/plain": [
       "ResNet(\n",
       "  (conv1): Conv2d(3, 64, kernel_size=(7, 7), stride=(2, 2), padding=(3, 3), bias=False)\n",
       "  (bn1): BatchNorm2d(64, eps=1e-05, momentum=0.1, affine=True, track_running_stats=True)\n",
       "  (relu): ReLU(inplace)\n",
       "  (maxpool): MaxPool2d(kernel_size=3, stride=2, padding=1, dilation=1, ceil_mode=False)\n",
       "  (layer1): Sequential(\n",
       "    (0): Bottleneck(\n",
       "      (conv1): Conv2d(64, 64, kernel_size=(1, 1), stride=(1, 1), bias=False)\n",
       "      (bn1): BatchNorm2d(64, eps=1e-05, momentum=0.1, affine=True, track_running_stats=True)\n",
       "      (conv2): Conv2d(64, 64, kernel_size=(3, 3), stride=(1, 1), padding=(1, 1), bias=False)\n",
       "      (bn2): BatchNorm2d(64, eps=1e-05, momentum=0.1, affine=True, track_running_stats=True)\n",
       "      (conv3): Conv2d(64, 256, kernel_size=(1, 1), stride=(1, 1), bias=False)\n",
       "      (bn3): BatchNorm2d(256, eps=1e-05, momentum=0.1, affine=True, track_running_stats=True)\n",
       "      (relu): ReLU(inplace)\n",
       "      (downsample): Sequential(\n",
       "        (0): Conv2d(64, 256, kernel_size=(1, 1), stride=(1, 1), bias=False)\n",
       "        (1): BatchNorm2d(256, eps=1e-05, momentum=0.1, affine=True, track_running_stats=True)\n",
       "      )\n",
       "    )\n",
       "    (1): Bottleneck(\n",
       "      (conv1): Conv2d(256, 64, kernel_size=(1, 1), stride=(1, 1), bias=False)\n",
       "      (bn1): BatchNorm2d(64, eps=1e-05, momentum=0.1, affine=True, track_running_stats=True)\n",
       "      (conv2): Conv2d(64, 64, kernel_size=(3, 3), stride=(1, 1), padding=(1, 1), bias=False)\n",
       "      (bn2): BatchNorm2d(64, eps=1e-05, momentum=0.1, affine=True, track_running_stats=True)\n",
       "      (conv3): Conv2d(64, 256, kernel_size=(1, 1), stride=(1, 1), bias=False)\n",
       "      (bn3): BatchNorm2d(256, eps=1e-05, momentum=0.1, affine=True, track_running_stats=True)\n",
       "      (relu): ReLU(inplace)\n",
       "    )\n",
       "    (2): Bottleneck(\n",
       "      (conv1): Conv2d(256, 64, kernel_size=(1, 1), stride=(1, 1), bias=False)\n",
       "      (bn1): BatchNorm2d(64, eps=1e-05, momentum=0.1, affine=True, track_running_stats=True)\n",
       "      (conv2): Conv2d(64, 64, kernel_size=(3, 3), stride=(1, 1), padding=(1, 1), bias=False)\n",
       "      (bn2): BatchNorm2d(64, eps=1e-05, momentum=0.1, affine=True, track_running_stats=True)\n",
       "      (conv3): Conv2d(64, 256, kernel_size=(1, 1), stride=(1, 1), bias=False)\n",
       "      (bn3): BatchNorm2d(256, eps=1e-05, momentum=0.1, affine=True, track_running_stats=True)\n",
       "      (relu): ReLU(inplace)\n",
       "    )\n",
       "  )\n",
       "  (layer2): Sequential(\n",
       "    (0): Bottleneck(\n",
       "      (conv1): Conv2d(256, 128, kernel_size=(1, 1), stride=(1, 1), bias=False)\n",
       "      (bn1): BatchNorm2d(128, eps=1e-05, momentum=0.1, affine=True, track_running_stats=True)\n",
       "      (conv2): Conv2d(128, 128, kernel_size=(3, 3), stride=(2, 2), padding=(1, 1), bias=False)\n",
       "      (bn2): BatchNorm2d(128, eps=1e-05, momentum=0.1, affine=True, track_running_stats=True)\n",
       "      (conv3): Conv2d(128, 512, kernel_size=(1, 1), stride=(1, 1), bias=False)\n",
       "      (bn3): BatchNorm2d(512, eps=1e-05, momentum=0.1, affine=True, track_running_stats=True)\n",
       "      (relu): ReLU(inplace)\n",
       "      (downsample): Sequential(\n",
       "        (0): Conv2d(256, 512, kernel_size=(1, 1), stride=(2, 2), bias=False)\n",
       "        (1): BatchNorm2d(512, eps=1e-05, momentum=0.1, affine=True, track_running_stats=True)\n",
       "      )\n",
       "    )\n",
       "    (1): Bottleneck(\n",
       "      (conv1): Conv2d(512, 128, kernel_size=(1, 1), stride=(1, 1), bias=False)\n",
       "      (bn1): BatchNorm2d(128, eps=1e-05, momentum=0.1, affine=True, track_running_stats=True)\n",
       "      (conv2): Conv2d(128, 128, kernel_size=(3, 3), stride=(1, 1), padding=(1, 1), bias=False)\n",
       "      (bn2): BatchNorm2d(128, eps=1e-05, momentum=0.1, affine=True, track_running_stats=True)\n",
       "      (conv3): Conv2d(128, 512, kernel_size=(1, 1), stride=(1, 1), bias=False)\n",
       "      (bn3): BatchNorm2d(512, eps=1e-05, momentum=0.1, affine=True, track_running_stats=True)\n",
       "      (relu): ReLU(inplace)\n",
       "    )\n",
       "    (2): Bottleneck(\n",
       "      (conv1): Conv2d(512, 128, kernel_size=(1, 1), stride=(1, 1), bias=False)\n",
       "      (bn1): BatchNorm2d(128, eps=1e-05, momentum=0.1, affine=True, track_running_stats=True)\n",
       "      (conv2): Conv2d(128, 128, kernel_size=(3, 3), stride=(1, 1), padding=(1, 1), bias=False)\n",
       "      (bn2): BatchNorm2d(128, eps=1e-05, momentum=0.1, affine=True, track_running_stats=True)\n",
       "      (conv3): Conv2d(128, 512, kernel_size=(1, 1), stride=(1, 1), bias=False)\n",
       "      (bn3): BatchNorm2d(512, eps=1e-05, momentum=0.1, affine=True, track_running_stats=True)\n",
       "      (relu): ReLU(inplace)\n",
       "    )\n",
       "    (3): Bottleneck(\n",
       "      (conv1): Conv2d(512, 128, kernel_size=(1, 1), stride=(1, 1), bias=False)\n",
       "      (bn1): BatchNorm2d(128, eps=1e-05, momentum=0.1, affine=True, track_running_stats=True)\n",
       "      (conv2): Conv2d(128, 128, kernel_size=(3, 3), stride=(1, 1), padding=(1, 1), bias=False)\n",
       "      (bn2): BatchNorm2d(128, eps=1e-05, momentum=0.1, affine=True, track_running_stats=True)\n",
       "      (conv3): Conv2d(128, 512, kernel_size=(1, 1), stride=(1, 1), bias=False)\n",
       "      (bn3): BatchNorm2d(512, eps=1e-05, momentum=0.1, affine=True, track_running_stats=True)\n",
       "      (relu): ReLU(inplace)\n",
       "    )\n",
       "  )\n",
       "  (layer3): Sequential(\n",
       "    (0): Bottleneck(\n",
       "      (conv1): Conv2d(512, 256, kernel_size=(1, 1), stride=(1, 1), bias=False)\n",
       "      (bn1): BatchNorm2d(256, eps=1e-05, momentum=0.1, affine=True, track_running_stats=True)\n",
       "      (conv2): Conv2d(256, 256, kernel_size=(3, 3), stride=(2, 2), padding=(1, 1), bias=False)\n",
       "      (bn2): BatchNorm2d(256, eps=1e-05, momentum=0.1, affine=True, track_running_stats=True)\n",
       "      (conv3): Conv2d(256, 1024, kernel_size=(1, 1), stride=(1, 1), bias=False)\n",
       "      (bn3): BatchNorm2d(1024, eps=1e-05, momentum=0.1, affine=True, track_running_stats=True)\n",
       "      (relu): ReLU(inplace)\n",
       "      (downsample): Sequential(\n",
       "        (0): Conv2d(512, 1024, kernel_size=(1, 1), stride=(2, 2), bias=False)\n",
       "        (1): BatchNorm2d(1024, eps=1e-05, momentum=0.1, affine=True, track_running_stats=True)\n",
       "      )\n",
       "    )\n",
       "    (1): Bottleneck(\n",
       "      (conv1): Conv2d(1024, 256, kernel_size=(1, 1), stride=(1, 1), bias=False)\n",
       "      (bn1): BatchNorm2d(256, eps=1e-05, momentum=0.1, affine=True, track_running_stats=True)\n",
       "      (conv2): Conv2d(256, 256, kernel_size=(3, 3), stride=(1, 1), padding=(1, 1), bias=False)\n",
       "      (bn2): BatchNorm2d(256, eps=1e-05, momentum=0.1, affine=True, track_running_stats=True)\n",
       "      (conv3): Conv2d(256, 1024, kernel_size=(1, 1), stride=(1, 1), bias=False)\n",
       "      (bn3): BatchNorm2d(1024, eps=1e-05, momentum=0.1, affine=True, track_running_stats=True)\n",
       "      (relu): ReLU(inplace)\n",
       "    )\n",
       "    (2): Bottleneck(\n",
       "      (conv1): Conv2d(1024, 256, kernel_size=(1, 1), stride=(1, 1), bias=False)\n",
       "      (bn1): BatchNorm2d(256, eps=1e-05, momentum=0.1, affine=True, track_running_stats=True)\n",
       "      (conv2): Conv2d(256, 256, kernel_size=(3, 3), stride=(1, 1), padding=(1, 1), bias=False)\n",
       "      (bn2): BatchNorm2d(256, eps=1e-05, momentum=0.1, affine=True, track_running_stats=True)\n",
       "      (conv3): Conv2d(256, 1024, kernel_size=(1, 1), stride=(1, 1), bias=False)\n",
       "      (bn3): BatchNorm2d(1024, eps=1e-05, momentum=0.1, affine=True, track_running_stats=True)\n",
       "      (relu): ReLU(inplace)\n",
       "    )\n",
       "    (3): Bottleneck(\n",
       "      (conv1): Conv2d(1024, 256, kernel_size=(1, 1), stride=(1, 1), bias=False)\n",
       "      (bn1): BatchNorm2d(256, eps=1e-05, momentum=0.1, affine=True, track_running_stats=True)\n",
       "      (conv2): Conv2d(256, 256, kernel_size=(3, 3), stride=(1, 1), padding=(1, 1), bias=False)\n",
       "      (bn2): BatchNorm2d(256, eps=1e-05, momentum=0.1, affine=True, track_running_stats=True)\n",
       "      (conv3): Conv2d(256, 1024, kernel_size=(1, 1), stride=(1, 1), bias=False)\n",
       "      (bn3): BatchNorm2d(1024, eps=1e-05, momentum=0.1, affine=True, track_running_stats=True)\n",
       "      (relu): ReLU(inplace)\n",
       "    )\n",
       "    (4): Bottleneck(\n",
       "      (conv1): Conv2d(1024, 256, kernel_size=(1, 1), stride=(1, 1), bias=False)\n",
       "      (bn1): BatchNorm2d(256, eps=1e-05, momentum=0.1, affine=True, track_running_stats=True)\n",
       "      (conv2): Conv2d(256, 256, kernel_size=(3, 3), stride=(1, 1), padding=(1, 1), bias=False)\n",
       "      (bn2): BatchNorm2d(256, eps=1e-05, momentum=0.1, affine=True, track_running_stats=True)\n",
       "      (conv3): Conv2d(256, 1024, kernel_size=(1, 1), stride=(1, 1), bias=False)\n",
       "      (bn3): BatchNorm2d(1024, eps=1e-05, momentum=0.1, affine=True, track_running_stats=True)\n",
       "      (relu): ReLU(inplace)\n",
       "    )\n",
       "    (5): Bottleneck(\n",
       "      (conv1): Conv2d(1024, 256, kernel_size=(1, 1), stride=(1, 1), bias=False)\n",
       "      (bn1): BatchNorm2d(256, eps=1e-05, momentum=0.1, affine=True, track_running_stats=True)\n",
       "      (conv2): Conv2d(256, 256, kernel_size=(3, 3), stride=(1, 1), padding=(1, 1), bias=False)\n",
       "      (bn2): BatchNorm2d(256, eps=1e-05, momentum=0.1, affine=True, track_running_stats=True)\n",
       "      (conv3): Conv2d(256, 1024, kernel_size=(1, 1), stride=(1, 1), bias=False)\n",
       "      (bn3): BatchNorm2d(1024, eps=1e-05, momentum=0.1, affine=True, track_running_stats=True)\n",
       "      (relu): ReLU(inplace)\n",
       "    )\n",
       "  )\n",
       "  (layer4): Sequential(\n",
       "    (0): Bottleneck(\n",
       "      (conv1): Conv2d(1024, 512, kernel_size=(1, 1), stride=(1, 1), bias=False)\n",
       "      (bn1): BatchNorm2d(512, eps=1e-05, momentum=0.1, affine=True, track_running_stats=True)\n",
       "      (conv2): Conv2d(512, 512, kernel_size=(3, 3), stride=(2, 2), padding=(1, 1), bias=False)\n",
       "      (bn2): BatchNorm2d(512, eps=1e-05, momentum=0.1, affine=True, track_running_stats=True)\n",
       "      (conv3): Conv2d(512, 2048, kernel_size=(1, 1), stride=(1, 1), bias=False)\n",
       "      (bn3): BatchNorm2d(2048, eps=1e-05, momentum=0.1, affine=True, track_running_stats=True)\n",
       "      (relu): ReLU(inplace)\n",
       "      (downsample): Sequential(\n",
       "        (0): Conv2d(1024, 2048, kernel_size=(1, 1), stride=(2, 2), bias=False)\n",
       "        (1): BatchNorm2d(2048, eps=1e-05, momentum=0.1, affine=True, track_running_stats=True)\n",
       "      )\n",
       "    )\n",
       "    (1): Bottleneck(\n",
       "      (conv1): Conv2d(2048, 512, kernel_size=(1, 1), stride=(1, 1), bias=False)\n",
       "      (bn1): BatchNorm2d(512, eps=1e-05, momentum=0.1, affine=True, track_running_stats=True)\n",
       "      (conv2): Conv2d(512, 512, kernel_size=(3, 3), stride=(1, 1), padding=(1, 1), bias=False)\n",
       "      (bn2): BatchNorm2d(512, eps=1e-05, momentum=0.1, affine=True, track_running_stats=True)\n",
       "      (conv3): Conv2d(512, 2048, kernel_size=(1, 1), stride=(1, 1), bias=False)\n",
       "      (bn3): BatchNorm2d(2048, eps=1e-05, momentum=0.1, affine=True, track_running_stats=True)\n",
       "      (relu): ReLU(inplace)\n",
       "    )\n",
       "    (2): Bottleneck(\n",
       "      (conv1): Conv2d(2048, 512, kernel_size=(1, 1), stride=(1, 1), bias=False)\n",
       "      (bn1): BatchNorm2d(512, eps=1e-05, momentum=0.1, affine=True, track_running_stats=True)\n",
       "      (conv2): Conv2d(512, 512, kernel_size=(3, 3), stride=(1, 1), padding=(1, 1), bias=False)\n",
       "      (bn2): BatchNorm2d(512, eps=1e-05, momentum=0.1, affine=True, track_running_stats=True)\n",
       "      (conv3): Conv2d(512, 2048, kernel_size=(1, 1), stride=(1, 1), bias=False)\n",
       "      (bn3): BatchNorm2d(2048, eps=1e-05, momentum=0.1, affine=True, track_running_stats=True)\n",
       "      (relu): ReLU(inplace)\n",
       "    )\n",
       "  )\n",
       "  (avgpool): AdaptiveAvgPool2d(output_size=(1, 1))\n",
       "  (fc): Linear(in_features=2048, out_features=1000, bias=True)\n",
       ")"
      ]
     },
     "execution_count": 18,
     "metadata": {},
     "output_type": "execute_result"
    }
   ],
   "source": [
    "model"
   ]
  },
  {
   "cell_type": "markdown",
   "metadata": {},
   "source": [
    "If GPU is supported, train model parallel."
   ]
  },
  {
   "cell_type": "code",
   "execution_count": 19,
   "metadata": {},
   "outputs": [],
   "source": [
    "if device == 'cuda':\n",
    "    model = torch.nn.DataParallel(model)\n",
    "    cudnn.benchmark = True"
   ]
  },
  {
   "cell_type": "markdown",
   "metadata": {},
   "source": [
    "## 5 - Optimizing Only Last Layer"
   ]
  },
  {
   "cell_type": "markdown",
   "metadata": {},
   "source": [
    "### Freezing Layers\n",
    "Freeze all layers with *requires_grad* parameter so that the gradients are not computed in backward()."
   ]
  },
  {
   "cell_type": "code",
   "execution_count": 20,
   "metadata": {},
   "outputs": [],
   "source": [
    "# Freeze all layers\n",
    "for param in model.parameters():\n",
    "    param.requires_grad = False"
   ]
  },
  {
   "cell_type": "markdown",
   "metadata": {},
   "source": [
    "Resetting final fully connected layer. Only this layer's weights are updated, other layers weights are fixed."
   ]
  },
  {
   "cell_type": "code",
   "execution_count": 21,
   "metadata": {},
   "outputs": [],
   "source": [
    "# Parameters of newly constructed modules have requires_grad=True by default\n",
    "num_ftrs = model.fc.in_features\n",
    "model.fc = nn.Linear(num_ftrs, 10)"
   ]
  },
  {
   "cell_type": "markdown",
   "metadata": {},
   "source": [
    "Give model to device (GPU or CPU)"
   ]
  },
  {
   "cell_type": "code",
   "execution_count": 22,
   "metadata": {},
   "outputs": [],
   "source": [
    "model = model.to(device)"
   ]
  },
  {
   "cell_type": "markdown",
   "metadata": {},
   "source": [
    "Let's create a function for freezing all layers except last one. This function is useful for clean coding."
   ]
  },
  {
   "cell_type": "code",
   "execution_count": 23,
   "metadata": {},
   "outputs": [],
   "source": [
    "def freezeLayersExceptLast():\n",
    "    model = resnet50(pretrained=True)\n",
    "    if device == 'cuda':\n",
    "        model = torch.nn.DataParallel(model)\n",
    "        cudnn.benchmark = True\n",
    "    # Freeze all layers\n",
    "    for param in model.parameters():\n",
    "        param.requires_grad = False\n",
    "    # Parameters of newly constructed modules have requires_grad=True by default\n",
    "    num_ftrs = model.fc.in_features\n",
    "    model.fc = nn.Linear(num_ftrs, 10)\n",
    "    model = model.to(device)"
   ]
  },
  {
   "cell_type": "markdown",
   "metadata": {},
   "source": [
    "### Optimization with CrossEntropyLoss and SGD\n",
    "\n",
    "I used loss function as **CrossEntropyLoss**, optimizer as **Stochastic Gradient Descent (SGD)** with momentum. Every 7 epochs learning rate is decayed by a factor 0.1."
   ]
  },
  {
   "cell_type": "code",
   "execution_count": 24,
   "metadata": {},
   "outputs": [],
   "source": [
    "criterion = nn.CrossEntropyLoss()\n",
    "\n",
    "optimizer_conv = optim.SGD(model.fc.parameters(), lr=0.0001, momentum=0.9)\n",
    "#optimizer_conv = optim.Adam(model.fc.parameters(), lr=0.0001)\n",
    "\n",
    "# Decay learning rate by a factor of 0.1 every 7 epochs\n",
    "exp_lr_scheduler = lr_scheduler.StepLR(optimizer_conv, step_size=7, gamma=0.1)"
   ]
  },
  {
   "cell_type": "markdown",
   "metadata": {},
   "source": [
    "We can see, how many parameters exist in the entire network. Also we can see total training parameters after layer freezing. In this example there are `23,528,522` total parameters and `20,490` training parameters."
   ]
  },
  {
   "cell_type": "code",
   "execution_count": 25,
   "metadata": {},
   "outputs": [
    {
     "name": "stdout",
     "output_type": "stream",
     "text": [
      "23,528,522 total parameters.\n",
      "20,490 training parameters.\n"
     ]
    }
   ],
   "source": [
    "total_params = sum(p.numel() for p in model.parameters())\n",
    "print(f'{total_params:,} total parameters.')\n",
    "total_trainable_params = sum(\n",
    "    p.numel() for p in model.parameters() if p.requires_grad)\n",
    "print(f'{total_trainable_params:,} training parameters.')"
   ]
  },
  {
   "cell_type": "markdown",
   "metadata": {},
   "source": [
    "I trained model for 10 epochs."
   ]
  },
  {
   "cell_type": "code",
   "execution_count": 26,
   "metadata": {},
   "outputs": [
    {
     "name": "stdout",
     "output_type": "stream",
     "text": [
      "Epoch 0/9\n",
      "----------\n",
      "train Loss: 2.0178 Acc: 0.4256\n",
      "val Loss: 1.7755 Acc: 0.6164\n",
      "\n",
      "Epoch 1/9\n",
      "----------\n",
      "train Loss: 1.6130 Acc: 0.6583\n",
      "val Loss: 1.4645 Acc: 0.6954\n",
      "\n",
      "Epoch 2/9\n",
      "----------\n",
      "train Loss: 1.3751 Acc: 0.7061\n",
      "val Loss: 1.2804 Acc: 0.7192\n",
      "\n",
      "Epoch 3/9\n",
      "----------\n",
      "train Loss: 1.2240 Acc: 0.7229\n",
      "val Loss: 1.1593 Acc: 0.7287\n",
      "\n",
      "Epoch 4/9\n",
      "----------\n",
      "train Loss: 1.1219 Acc: 0.7330\n",
      "val Loss: 1.0704 Acc: 0.7395\n",
      "\n",
      "Epoch 5/9\n",
      "----------\n",
      "train Loss: 1.0461 Acc: 0.7423\n",
      "val Loss: 1.0062 Acc: 0.7461\n",
      "\n",
      "Epoch 6/9\n",
      "----------\n",
      "train Loss: 0.9912 Acc: 0.7462\n",
      "val Loss: 0.9571 Acc: 0.7486\n",
      "\n",
      "Epoch 7/9\n",
      "----------\n",
      "train Loss: 0.9646 Acc: 0.7501\n",
      "val Loss: 0.9502 Acc: 0.7508\n",
      "\n",
      "Epoch 8/9\n",
      "----------\n",
      "train Loss: 0.9613 Acc: 0.7500\n",
      "val Loss: 0.9444 Acc: 0.7498\n",
      "\n",
      "Epoch 9/9\n",
      "----------\n",
      "train Loss: 0.9556 Acc: 0.7514\n",
      "val Loss: 0.9469 Acc: 0.7497\n",
      "\n",
      "Training complete in 20m 25s\n",
      "Best val Acc: 0.750800\n"
     ]
    }
   ],
   "source": [
    "model, history_loss, history_accuracy = train_model(model, criterion, optimizer_conv, exp_lr_scheduler, num_epochs=10)"
   ]
  },
  {
   "cell_type": "code",
   "execution_count": 27,
   "metadata": {},
   "outputs": [],
   "source": [
    "saveModel(model, name=\"model_crossEntropyLoss_SGD_resnet_last_layer.pth\")"
   ]
  },
  {
   "cell_type": "markdown",
   "metadata": {},
   "source": [
    "### Plotting"
   ]
  },
  {
   "cell_type": "markdown",
   "metadata": {},
   "source": [
    "As we can see from loss and accuracy plot, training and validation curves are close to each other. This means no overfitting occured. "
   ]
  },
  {
   "cell_type": "code",
   "execution_count": 28,
   "metadata": {},
   "outputs": [
    {
     "data": {
      "text/plain": [
       "Text(0.5,1,'Training and Validation Losses')"
      ]
     },
     "execution_count": 28,
     "metadata": {},
     "output_type": "execute_result"
    },
    {
     "data": {
      "image/png": "[encoded data removed]",
      "text/plain": [
       "<Figure size 576x432 with 1 Axes>"
      ]
     },
     "metadata": {
      "needs_background": "light"
     },
     "output_type": "display_data"
    }
   ],
   "source": [
    "plt.figure(figsize=(8, 6))\n",
    "for c in ['train', 'val']:\n",
    "    plt.plot(\n",
    "        history_loss[c], label=c)\n",
    "plt.legend()\n",
    "plt.xlabel('Epoch')\n",
    "plt.ylabel('Cross Validation Loss')\n",
    "plt.title('Training and Validation Losses')"
   ]
  },
  {
   "cell_type": "code",
   "execution_count": 29,
   "metadata": {},
   "outputs": [
    {
     "data": {
      "text/plain": [
       "Text(0.5,1,'Training and Validation Accuracy')"
      ]
     },
     "execution_count": 29,
     "metadata": {},
     "output_type": "execute_result"
    },
    {
     "data": {
      "image/png": "[encoded data removed]",
      "text/plain": [
       "<Figure size 576x432 with 1 Axes>"
      ]
     },
     "metadata": {
      "needs_background": "light"
     },
     "output_type": "display_data"
    }
   ],
   "source": [
    "plt.figure(figsize=(8, 6))\n",
    "for c in ['train', 'val']:\n",
    "    plt.plot(\n",
    "        history_accuracy[c], label=c)\n",
    "plt.legend()\n",
    "plt.xlabel('Epoch')\n",
    "plt.ylabel('Average Accuracy')\n",
    "plt.title('Training and Validation Accuracy')"
   ]
  },
  {
   "cell_type": "markdown",
   "metadata": {},
   "source": [
    "### Accuracy on Test Dataset"
   ]
  },
  {
   "cell_type": "markdown",
   "metadata": {},
   "source": [
    "Model is trained on training dataset with validation dataset. Now model is ready for test dataset. "
   ]
  },
  {
   "cell_type": "code",
   "execution_count": 30,
   "metadata": {},
   "outputs": [],
   "source": [
    "def accuracyOnTest():\n",
    "    model.eval()\n",
    "    running_corrects = 0\n",
    "    \n",
    "    for inputs, labels in dataloaders['test']:\n",
    "        inputs = inputs.to(device)\n",
    "        labels = labels.long()\n",
    "        labels = labels.to(device)\n",
    "            \n",
    "        outputs = model(inputs)\n",
    "        _, preds = torch.max(outputs, 1)\n",
    "        \n",
    "        running_corrects += torch.sum(preds == labels.data)\n",
    "    acc = running_corrects.double() / dataset_sizes['test']\n",
    "        \n",
    "    return acc"
   ]
  },
  {
   "cell_type": "code",
   "execution_count": 31,
   "metadata": {},
   "outputs": [],
   "source": [
    "acc = accuracyOnTest()"
   ]
  },
  {
   "cell_type": "code",
   "execution_count": 32,
   "metadata": {
    "scrolled": true
   },
   "outputs": [
    {
     "data": {
      "text/plain": [
       "0.7538"
      ]
     },
     "execution_count": 32,
     "metadata": {},
     "output_type": "execute_result"
    }
   ],
   "source": [
    "acc.item()"
   ]
  },
  {
   "cell_type": "markdown",
   "metadata": {},
   "source": [
    "### Optimization with Hinge Loss and SGD\n",
    "\n",
    "I used loss function as **MultiMarginLoss**, optimizer as **Stochastic Gradient Descent (SGD)** with momentum. Every 7 epochs learning rate is decayed by a factor 0.1.\n",
    "\n",
    "MultiMarginLoss creates a criterion that optimizes a multi-class classification hinge loss (margin-based loss) between input x (a 2D mini-batch Tensor) and output y [8]."
   ]
  },
  {
   "cell_type": "code",
   "execution_count": 33,
   "metadata": {},
   "outputs": [],
   "source": [
    "freezeLayersExceptLast()"
   ]
  },
  {
   "cell_type": "code",
   "execution_count": 34,
   "metadata": {},
   "outputs": [],
   "source": [
    "criterion = nn.MultiMarginLoss()\n",
    "\n",
    "optimizer_conv = optim.SGD(model.fc.parameters(), lr=0.001, momentum=0.9)\n",
    "#optimizer_conv = optim.Adam(model.fc.parameters(), lr=0.001)\n",
    "\n",
    "# Decay learning rate by a factor of 0.1 every 7 epochs\n",
    "exp_lr_scheduler = lr_scheduler.StepLR(optimizer_conv, step_size=7, gamma=0.1)"
   ]
  },
  {
   "cell_type": "code",
   "execution_count": 35,
   "metadata": {},
   "outputs": [
    {
     "name": "stdout",
     "output_type": "stream",
     "text": [
      "Epoch 0/9\n",
      "----------\n",
      "train Loss: 0.1221 Acc: 0.7580\n",
      "val Loss: 0.1124 Acc: 0.7730\n",
      "\n",
      "Epoch 1/9\n",
      "----------\n",
      "train Loss: 0.1120 Acc: 0.7720\n",
      "val Loss: 0.1068 Acc: 0.7804\n",
      "\n",
      "Epoch 2/9\n",
      "----------\n",
      "train Loss: 0.1058 Acc: 0.7824\n",
      "val Loss: 0.1025 Acc: 0.7878\n",
      "\n",
      "Epoch 3/9\n",
      "----------\n",
      "train Loss: 0.1015 Acc: 0.7866\n",
      "val Loss: 0.0989 Acc: 0.7891\n",
      "\n",
      "Epoch 4/9\n",
      "----------\n",
      "train Loss: 0.0987 Acc: 0.7899\n",
      "val Loss: 0.0966 Acc: 0.7964\n",
      "\n",
      "Epoch 5/9\n",
      "----------\n",
      "train Loss: 0.0963 Acc: 0.7941\n",
      "val Loss: 0.0958 Acc: 0.7968\n",
      "\n",
      "Epoch 6/9\n",
      "----------\n",
      "train Loss: 0.0946 Acc: 0.7961\n",
      "val Loss: 0.0930 Acc: 0.7995\n",
      "\n",
      "Epoch 7/9\n",
      "----------\n",
      "train Loss: 0.0925 Acc: 0.7999\n",
      "val Loss: 0.0924 Acc: 0.8010\n",
      "\n",
      "Epoch 8/9\n",
      "----------\n",
      "train Loss: 0.0926 Acc: 0.7995\n",
      "val Loss: 0.0929 Acc: 0.7994\n",
      "\n",
      "Epoch 9/9\n",
      "----------\n",
      "train Loss: 0.0922 Acc: 0.7998\n",
      "val Loss: 0.0922 Acc: 0.8001\n",
      "\n",
      "Training complete in 20m 18s\n",
      "Best val Acc: 0.801000\n"
     ]
    }
   ],
   "source": [
    "model, history_loss, history_accuracy = train_model(model, criterion, optimizer_conv, exp_lr_scheduler, num_epochs=10)"
   ]
  },
  {
   "cell_type": "code",
   "execution_count": 36,
   "metadata": {},
   "outputs": [],
   "source": [
    "saveModel(model, name=\"model_HingeLoss_SGD_resnet_last_layer.pth\")"
   ]
  },
  {
   "cell_type": "markdown",
   "metadata": {},
   "source": [
    "### Plotting"
   ]
  },
  {
   "cell_type": "code",
   "execution_count": 37,
   "metadata": {},
   "outputs": [
    {
     "data": {
      "text/plain": [
       "Text(0.5,1,'Training and Validation Losses')"
      ]
     },
     "execution_count": 37,
     "metadata": {},
     "output_type": "execute_result"
    },
    {
     "data": {
      "image/png": "[encoded data removed]",
      "text/plain": [
       "<Figure size 576x432 with 1 Axes>"
      ]
     },
     "metadata": {
      "needs_background": "light"
     },
     "output_type": "display_data"
    }
   ],
   "source": [
    "plt.figure(figsize=(8, 6))\n",
    "for c in ['train', 'val']:\n",
    "    plt.plot(\n",
    "        history_loss[c], label=c)\n",
    "plt.legend()\n",
    "plt.xlabel('Epoch')\n",
    "plt.ylabel('Cross Validation Loss')\n",
    "plt.title('Training and Validation Losses')"
   ]
  },
  {
   "cell_type": "code",
   "execution_count": 38,
   "metadata": {},
   "outputs": [
    {
     "data": {
      "text/plain": [
       "Text(0.5,1,'Training and Validation Accuracy')"
      ]
     },
     "execution_count": 38,
     "metadata": {},
     "output_type": "execute_result"
    },
    {
     "data": {
      "image/png": "[encoded data removed]",
      "text/plain": [
       "<Figure size 576x432 with 1 Axes>"
      ]
     },
     "metadata": {
      "needs_background": "light"
     },
     "output_type": "display_data"
    }
   ],
   "source": [
    "plt.figure(figsize=(8, 6))\n",
    "for c in ['train', 'val']:\n",
    "    plt.plot(\n",
    "        history_accuracy[c], label=c)\n",
    "plt.legend()\n",
    "#plt.ylim(1, 100)\n",
    "plt.xlabel('Epoch')\n",
    "plt.ylabel('Average Accuracy')\n",
    "plt.title('Training and Validation Accuracy')"
   ]
  },
  {
   "cell_type": "markdown",
   "metadata": {},
   "source": [
    "### Accuracy on Test Dataset"
   ]
  },
  {
   "cell_type": "code",
   "execution_count": 39,
   "metadata": {},
   "outputs": [
    {
     "data": {
      "text/plain": [
       "0.7981"
      ]
     },
     "execution_count": 39,
     "metadata": {},
     "output_type": "execute_result"
    }
   ],
   "source": [
    "acc = accuracyOnTest()\n",
    "acc.item()"
   ]
  },
  {
   "cell_type": "markdown",
   "metadata": {},
   "source": [
    "## 6 - Optimizing All of the Layers"
   ]
  },
  {
   "cell_type": "markdown",
   "metadata": {},
   "source": [
    "In this part, I am using pretrained model's weights and optimize all of the layers of the model. This requires a lot of processing power and time compared to optimizing only last layer of the model. "
   ]
  },
  {
   "cell_type": "code",
   "execution_count": 40,
   "metadata": {},
   "outputs": [],
   "source": [
    "model = resnet50(pretrained=True)"
   ]
  },
  {
   "cell_type": "code",
   "execution_count": 41,
   "metadata": {},
   "outputs": [],
   "source": [
    "if device == 'cuda':\n",
    "    model = torch.nn.DataParallel(model)\n",
    "    cudnn.benchmark = True\n",
    "    \n",
    "model = model.to(device)"
   ]
  },
  {
   "cell_type": "markdown",
   "metadata": {},
   "source": [
    "We can see, how many parameters exist in the entire network. Also we can see total training parameters after layer freezing. In this example there are `25,557,032` total parameters and `25,557,032` training parameters. Because of there is no layer freezing, total parameters and training parameters are equal."
   ]
  },
  {
   "cell_type": "code",
   "execution_count": 42,
   "metadata": {},
   "outputs": [
    {
     "name": "stdout",
     "output_type": "stream",
     "text": [
      "25,557,032 total parameters.\n",
      "25,557,032 training parameters.\n"
     ]
    }
   ],
   "source": [
    "total_params = sum(p.numel() for p in model.parameters())\n",
    "print(f'{total_params:,} total parameters.')\n",
    "total_trainable_params = sum(\n",
    "    p.numel() for p in model.parameters() if p.requires_grad)\n",
    "print(f'{total_trainable_params:,} training parameters.')"
   ]
  },
  {
   "cell_type": "markdown",
   "metadata": {},
   "source": [
    "### Optimization with CrossEntropyLoss and SGD"
   ]
  },
  {
   "cell_type": "code",
   "execution_count": 43,
   "metadata": {},
   "outputs": [],
   "source": [
    "criterion = nn.CrossEntropyLoss()\n",
    "\n",
    "optimizer_conv = optim.SGD(model.fc.parameters(), lr=0.001, momentum=0.9)\n",
    "#optimizer_conv = optim.Adam(model.fc.parameters(), lr=0.001)\n",
    "\n",
    "# Decay learning rate by a factor of 0.1 every 7 epochs\n",
    "exp_lr_scheduler = lr_scheduler.StepLR(optimizer_conv, step_size=7, gamma=0.1)"
   ]
  },
  {
   "cell_type": "code",
   "execution_count": 44,
   "metadata": {},
   "outputs": [
    {
     "name": "stdout",
     "output_type": "stream",
     "text": [
      "Epoch 0/9\n",
      "----------\n",
      "train Loss: 2.0568 Acc: 0.4346\n",
      "val Loss: 1.0512 Acc: 0.6396\n",
      "\n",
      "Epoch 1/9\n",
      "----------\n",
      "train Loss: 0.9227 Acc: 0.6863\n",
      "val Loss: 0.8190 Acc: 0.7180\n",
      "\n",
      "Epoch 2/9\n",
      "----------\n",
      "train Loss: 0.7756 Acc: 0.7360\n",
      "val Loss: 0.7216 Acc: 0.7526\n",
      "\n",
      "Epoch 3/9\n",
      "----------\n",
      "train Loss: 0.7077 Acc: 0.7602\n",
      "val Loss: 0.6717 Acc: 0.7710\n",
      "\n",
      "Epoch 4/9\n",
      "----------\n",
      "train Loss: 0.6709 Acc: 0.7723\n",
      "val Loss: 0.6448 Acc: 0.7809\n",
      "\n",
      "Epoch 5/9\n",
      "----------\n",
      "train Loss: 0.6425 Acc: 0.7829\n",
      "val Loss: 0.6281 Acc: 0.7844\n",
      "\n",
      "Epoch 6/9\n",
      "----------\n",
      "train Loss: 0.6243 Acc: 0.7879\n",
      "val Loss: 0.6121 Acc: 0.7918\n",
      "\n",
      "Epoch 7/9\n",
      "----------\n",
      "train Loss: 0.6106 Acc: 0.7933\n",
      "val Loss: 0.6040 Acc: 0.7942\n",
      "\n",
      "Epoch 8/9\n",
      "----------\n",
      "train Loss: 0.6069 Acc: 0.7934\n",
      "val Loss: 0.6044 Acc: 0.7936\n",
      "\n",
      "Epoch 9/9\n",
      "----------\n",
      "train Loss: 0.6070 Acc: 0.7939\n",
      "val Loss: 0.6028 Acc: 0.7943\n",
      "\n",
      "Training complete in 34m 15s\n",
      "Best val Acc: 0.794300\n"
     ]
    }
   ],
   "source": [
    "model, history_loss, history_accuracy = train_model(model, criterion, optimizer_conv, exp_lr_scheduler, num_epochs=10)"
   ]
  },
  {
   "cell_type": "code",
   "execution_count": 45,
   "metadata": {},
   "outputs": [],
   "source": [
    "saveModel(model, name=\"model_crossEntropyLoss_SGD_resnet_all_layers.pth\")"
   ]
  },
  {
   "cell_type": "markdown",
   "metadata": {},
   "source": [
    "### Plotting"
   ]
  },
  {
   "cell_type": "code",
   "execution_count": 46,
   "metadata": {},
   "outputs": [
    {
     "data": {
      "text/plain": [
       "Text(0.5,1,'Training and Validation Losses')"
      ]
     },
     "execution_count": 46,
     "metadata": {},
     "output_type": "execute_result"
    },
    {
     "data": {
      "image/png": "[encoded data removed]",
      "text/plain": [
       "<Figure size 576x432 with 1 Axes>"
      ]
     },
     "metadata": {
      "needs_background": "light"
     },
     "output_type": "display_data"
    }
   ],
   "source": [
    "plt.figure(figsize=(8, 6))\n",
    "for c in ['train', 'val']:\n",
    "    plt.plot(\n",
    "        history_loss[c], label=c)\n",
    "plt.legend()\n",
    "plt.xlabel('Epoch')\n",
    "plt.ylabel('Cross Validation Loss')\n",
    "plt.title('Training and Validation Losses')"
   ]
  },
  {
   "cell_type": "code",
   "execution_count": 47,
   "metadata": {},
   "outputs": [
    {
     "data": {
      "text/plain": [
       "Text(0.5,1,'Training and Validation Accuracy')"
      ]
     },
     "execution_count": 47,
     "metadata": {},
     "output_type": "execute_result"
    },
    {
     "data": {
      "image/png": "[encoded data removed]",
      "text/plain": [
       "<Figure size 576x432 with 1 Axes>"
      ]
     },
     "metadata": {
      "needs_background": "light"
     },
     "output_type": "display_data"
    }
   ],
   "source": [
    "plt.figure(figsize=(8, 6))\n",
    "for c in ['train', 'val']:\n",
    "    plt.plot(\n",
    "        history_accuracy[c], label=c)\n",
    "plt.legend()\n",
    "#plt.ylim(1, 100)\n",
    "plt.xlabel('Epoch')\n",
    "plt.ylabel('Average Accuracy')\n",
    "plt.title('Training and Validation Accuracy')"
   ]
  },
  {
   "cell_type": "markdown",
   "metadata": {},
   "source": [
    "### Accuracy on Test Dataset"
   ]
  },
  {
   "cell_type": "code",
   "execution_count": 48,
   "metadata": {},
   "outputs": [
    {
     "data": {
      "text/plain": [
       "0.791"
      ]
     },
     "execution_count": 48,
     "metadata": {},
     "output_type": "execute_result"
    }
   ],
   "source": [
    "acc = accuracyOnTest()\n",
    "acc.item()"
   ]
  },
  {
   "cell_type": "markdown",
   "metadata": {},
   "source": [
    "### Optimization with Hinge Loss and SGD"
   ]
  },
  {
   "cell_type": "code",
   "execution_count": 56,
   "metadata": {},
   "outputs": [],
   "source": [
    "model = resnet50(pretrained=True)\n",
    "if device == 'cuda':\n",
    "    model = torch.nn.DataParallel(model)\n",
    "    cudnn.benchmark = True\n",
    "    \n",
    "model = model.to(device)"
   ]
  },
  {
   "cell_type": "code",
   "execution_count": 57,
   "metadata": {},
   "outputs": [],
   "source": [
    "criterion = nn.CrossEntropyLoss()\n",
    "\n",
    "optimizer_conv = optim.SGD(model.fc.parameters(), lr=0.01, momentum=0.9)\n",
    "#optimizer_conv = optim.Adam(model.fc.parameters(), lr=0.001)\n",
    "\n",
    "# Decay learning rate by a factor of 0.1 every 7 epochs\n",
    "exp_lr_scheduler = lr_scheduler.StepLR(optimizer_conv, step_size=7, gamma=0.1)"
   ]
  },
  {
   "cell_type": "code",
   "execution_count": 58,
   "metadata": {},
   "outputs": [
    {
     "name": "stdout",
     "output_type": "stream",
     "text": [
      "Epoch 0/9\n",
      "----------\n",
      "train Loss: 0.9575 Acc: 0.7049\n",
      "val Loss: 0.6418 Acc: 0.7762\n",
      "\n",
      "Epoch 1/9\n",
      "----------\n",
      "train Loss: 0.5974 Acc: 0.7933\n",
      "val Loss: 0.5704 Acc: 0.8011\n",
      "\n",
      "Epoch 2/9\n",
      "----------\n",
      "train Loss: 0.5634 Acc: 0.8030\n",
      "val Loss: 0.5332 Acc: 0.8135\n",
      "\n",
      "Epoch 3/9\n",
      "----------\n",
      "train Loss: 0.5456 Acc: 0.8080\n",
      "val Loss: 0.5279 Acc: 0.8172\n",
      "\n",
      "Epoch 4/9\n",
      "----------\n",
      "train Loss: 0.5270 Acc: 0.8175\n",
      "val Loss: 0.5194 Acc: 0.8204\n",
      "\n",
      "Epoch 5/9\n",
      "----------\n",
      "train Loss: 0.5068 Acc: 0.8235\n",
      "val Loss: 0.5324 Acc: 0.8133\n",
      "\n",
      "Epoch 6/9\n",
      "----------\n",
      "train Loss: 0.5065 Acc: 0.8252\n",
      "val Loss: 0.4966 Acc: 0.8281\n",
      "\n",
      "Epoch 7/9\n",
      "----------\n",
      "train Loss: 0.4617 Acc: 0.8391\n",
      "val Loss: 0.4924 Acc: 0.8311\n",
      "\n",
      "Epoch 8/9\n",
      "----------\n",
      "train Loss: 0.4618 Acc: 0.8400\n",
      "val Loss: 0.4889 Acc: 0.8321\n",
      "\n",
      "Epoch 9/9\n",
      "----------\n",
      "train Loss: 0.4597 Acc: 0.8413\n",
      "val Loss: 0.4903 Acc: 0.8322\n",
      "\n",
      "Training complete in 34m 17s\n",
      "Best val Acc: 0.832200\n"
     ]
    }
   ],
   "source": [
    "model, history_loss, history_accuracy = train_model(model, criterion, optimizer_conv, exp_lr_scheduler, num_epochs=10)"
   ]
  },
  {
   "cell_type": "code",
   "execution_count": 59,
   "metadata": {},
   "outputs": [],
   "source": [
    "saveModel(model, name=\"model_HingeLoss_SGD_resnet_all_layers.pth\")"
   ]
  },
  {
   "cell_type": "markdown",
   "metadata": {},
   "source": [
    "### Plotting"
   ]
  },
  {
   "cell_type": "code",
   "execution_count": 60,
   "metadata": {},
   "outputs": [
    {
     "data": {
      "text/plain": [
       "Text(0.5,1,'Training and Validation Losses')"
      ]
     },
     "execution_count": 60,
     "metadata": {},
     "output_type": "execute_result"
    },
    {
     "data": {
      "image/png": "[encoded data removed]",
      "text/plain": [
       "<Figure size 576x432 with 1 Axes>"
      ]
     },
     "metadata": {
      "needs_background": "light"
     },
     "output_type": "display_data"
    }
   ],
   "source": [
    "plt.figure(figsize=(8, 6))\n",
    "for c in ['train', 'val']:\n",
    "    plt.plot(\n",
    "        history_loss[c], label=c)\n",
    "plt.legend()\n",
    "plt.xlabel('Epoch')\n",
    "plt.ylabel('Cross Validation Loss')\n",
    "plt.title('Training and Validation Losses')"
   ]
  },
  {
   "cell_type": "code",
   "execution_count": 61,
   "metadata": {},
   "outputs": [
    {
     "data": {
      "text/plain": [
       "Text(0.5,1,'Training and Validation Accuracy')"
      ]
     },
     "execution_count": 61,
     "metadata": {},
     "output_type": "execute_result"
    },
    {
     "data": {
      "image/png": "[encoded data removed]",
      "text/plain": [
       "<Figure size 576x432 with 1 Axes>"
      ]
     },
     "metadata": {
      "needs_background": "light"
     },
     "output_type": "display_data"
    }
   ],
   "source": [
    "plt.figure(figsize=(8, 6))\n",
    "for c in ['train', 'val']:\n",
    "    plt.plot(\n",
    "        history_accuracy[c], label=c)\n",
    "plt.legend()\n",
    "#plt.ylim(1, 100)\n",
    "plt.xlabel('Epoch')\n",
    "plt.ylabel('Average Accuracy')\n",
    "plt.title('Training and Validation Accuracy')"
   ]
  },
  {
   "cell_type": "markdown",
   "metadata": {},
   "source": [
    "### Accuracy on Test Dataset"
   ]
  },
  {
   "cell_type": "code",
   "execution_count": 62,
   "metadata": {},
   "outputs": [
    {
     "data": {
      "text/plain": [
       "0.8267"
      ]
     },
     "execution_count": 62,
     "metadata": {},
     "output_type": "execute_result"
    }
   ],
   "source": [
    "acc = accuracyOnTest()\n",
    "acc.item()"
   ]
  },
  {
   "cell_type": "markdown",
   "metadata": {},
   "source": [
    "## Test Accuracy For Different Methods\n",
    "\n",
    "* Cross Entropy Loss - SGD - ResNet-50 - Fine Tune Only Last Layer = `0.7538`\n",
    "* Hinge(Multi Margin) Loss - SGD - ResNet-50 - Fine Tune Only Last Layer = `0.7981`\n",
    "* Cross Entropy Loss - SGD - ResNet-50 - Fine Tune All Layers = `0.791`\n",
    "* Hinge(Multi Margin) Loss - SGD - ResNet-50 - Fine Tune All Layers = `0.8267`"
   ]
  },
  {
   "cell_type": "markdown",
   "metadata": {},
   "source": [
    "## 7- Conclusion\n",
    "\n",
    "I trained all the models on GPU. I used Google Cloud Compute Engine with Tesla V100 GPU. Training and validation dataset batch sizes are **128** and testing dataset batch size is **32**. I trained all the models for **10** epochs.\n",
    "\n",
    "I used ResNet-50 model that is pretrained on ImageNet. First part of this notebook, I freezed all the layers except the last layer. I used Cross Validation loss and Hinge Loss with SGD (Stochastic Gradient Descent). I observed that, with equal learning rate for cross validation loss and hinge loss using SGD with momentum, hinge loss model converges very slowly. So I give a higher learning rate for hinge loss model training. First part model training took nearly 20 minutes.\n",
    "\n",
    "Second part of the notebook, I did not freeze any layer, and all the weights are initialized with ResNet-50 pretrained model. I fine-tuned all the layers. Second part of the model training took nearly 34 minutes. This is expected because # of parameters are higher for the second part of the model and it requires more computational power.\n",
    "\n",
    "As we can see from plots there is no overfitting issue for all the models, training and validation lines are close to each other during training.\n",
    "\n",
    "Best test accuracy is `0.8267`. Because of the computational power and time, I determined epoch size as **10**. We can increase the accuracy by increasing epoch size. \n",
    "\n",
    "If you have any questions, please contact me on baltacifatih14@gmail.com"
   ]
  },
  {
   "cell_type": "markdown",
   "metadata": {},
   "source": [
    "## References\n",
    "\n",
    "[1] Learning Multiple Layers of Features from Tiny Images, Alex Krizhevsky, 2009.\n",
    "\n",
    "[2] He, K., Zhang, X., Ren, S., & Sun, J. (2016). Deep Residual Learning for Image Recognition. 2016 IEEE Conference on Computer Vision and Pattern Recognition (CVPR), 770-778.\n",
    "\n",
    "[3] https://luckydanny.blogspot.com/2016/07/load-cifar-10-dataset-in-python3.html\n",
    "\n",
    "[4] https://pytorch.org/docs/stable/torchvision/transforms.html\n",
    "\n",
    "[5] https://github.com/pytorch/vision/blob/master/torchvision/models/resnet.py\n",
    "\n",
    "[6] https://pytorch.org/docs/stable/data.html#torch.utils.data.DataLoader\n",
    "\n",
    "[7] https://pytorch.org/tutorials/beginner/transfer_learning_tutorial.html\n",
    "\n",
    "[8] https://pytorch.org/docs/stable/nn.html#multimarginloss\n",
    "\n",
    "https://pytorch.org/tutorials/beginner/data_loading_tutorial.html\n",
    "\n",
    "https://www.aiworkbox.com/lessons/normalize-cifar10-dataset-tensor\n",
    "\n",
    "https://discuss.pytorch.org/t/random-seed-initialization/7854/7\n",
    "\n",
    "https://github.com/pytorch/vision/blob/master/torchvision/datasets/cifar.py\n",
    "\n",
    "https://pytorch.org/docs/stable/optim.html\n",
    "\n",
    "https://stackoverflow.com/questions/50544730/split-dataset-train-and-test-in-pytorch-using-custom-dataset\n",
    "\n",
    "https://github.com/WillKoehrsen/pytorch_challenge/blob/master/Transfer%20Learning%20in%20PyTorch.ipynb"
   ]
  }
 ],
 "metadata": {
  "anaconda-cloud": {},
  "kernelspec": {
   "display_name": "Python 3",
   "language": "python",
   "name": "python3"
  },
  "language_info": {
   "codemirror_mode": {
    "name": "ipython",
    "version": 3
   },
   "file_extension": ".py",
   "mimetype": "text/x-python",
   "name": "python",
   "nbconvert_exporter": "python",
   "pygments_lexer": "ipython3",
   "version": "3.7.0"
  }
 },
 "nbformat": 4,
 "nbformat_minor": 1
}
